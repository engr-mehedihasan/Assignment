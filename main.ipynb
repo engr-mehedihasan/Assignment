{
 "cells": [
  {
   "cell_type": "markdown",
   "metadata": {},
   "source": [
    "# Assignment\n",
    "Md. Mehedi Hasan | \n",
    "Student ID: NA-20766E"
   ]
  },
  {
   "cell_type": "markdown",
   "metadata": {},
   "source": [
    "১. ভ্যারিয়েবল ও ডাটা টাইপ:\n",
    "আপনার নাম, বয়স, এবং ছাত্র কিনা (True/False) — এই তথ্যগুলো ভ্যারিয়েবল হিসেবে সংরক্ষণ করুন।\n",
    "\n",
    "প্রতিটি ভ্যারিয়েবলের টাইপ print(type(...)) দিয়ে দেখান।"
   ]
  },
  {
   "cell_type": "markdown",
   "metadata": {},
   "source": [
    "Answer"
   ]
  },
  {
   "cell_type": "code",
   "execution_count": 51,
   "metadata": {},
   "outputs": [
    {
     "name": "stdout",
     "output_type": "stream",
     "text": [
      "My name is: Mehedi Hasan <class 'str'>\n",
      "Age: 25 <class 'int'>\n",
      "Am I student?:  True <class 'bool'>\n"
     ]
    }
   ],
   "source": [
    "name = \"Mehedi Hasan\"\n",
    "age = 25\n",
    "student = True\n",
    "\n",
    "print(\"My name is:\", name, type(name))\n",
    "print(\"Age:\", age, type(age))\n",
    "print(\"Am I student?: \", student, type(student))\n"
   ]
  },
  {
   "cell_type": "markdown",
   "metadata": {},
   "source": [
    " ২. অ্যারিথমেটিক অপারেশন:\n",
    "আপনার বয়স দিয়ে একটি সংখ্যা গুণ, যোগ, ভাগ, বিয়োগ করে প্রিন্ট করুন।"
   ]
  },
  {
   "cell_type": "markdown",
   "metadata": {},
   "source": [
    "Answer "
   ]
  },
  {
   "cell_type": "code",
   "execution_count": 52,
   "metadata": {},
   "outputs": [
    {
     "name": "stdout",
     "output_type": "stream",
     "text": [
      "Enter my age: 25\n",
      "Input any number: 5\n",
      "\n",
      "Multiplication result =  125\n",
      "Addition result =  30\n",
      "Subtraction result =  20\n",
      "Division result =  5.0\n"
     ]
    }
   ],
   "source": [
    "age1 = int(input(\"Enter my age: \"))\n",
    "number = int(input(\"Input any number: \"))\n",
    "\n",
    "multiply = age1 * number\n",
    "add = age1 + number\n",
    "sub = age1 - number\n",
    "divide = age1 / number\n",
    "\n",
    "print(\"\\nMultiplication result = \",multiply)\n",
    "print(\"Addition result = \",add)\n",
    "print(\"Subtraction result = \",sub)\n",
    "print(\"Division result = \",divide)"
   ]
  },
  {
   "cell_type": "markdown",
   "metadata": {},
   "source": [
    "৩. কম্পারিজন অপারেটর:\n",
    "বয়স ১৮ এর বেশি কিনা তা চেক করুন এবং ফলাফল প্রিন্ট করুন।\n",
    "\n",
    "==, !=, <, > অপারেটর ব্যবহার করে ২/৩টি তুলনা দেখান।"
   ]
  },
  {
   "cell_type": "code",
   "execution_count": 53,
   "metadata": {},
   "outputs": [
    {
     "name": "stdout",
     "output_type": "stream",
     "text": [
      "Enter age: 25\n",
      "It's been 18 years\n"
     ]
    }
   ],
   "source": [
    "age2 = int(input(\"Enter age: \"))\n",
    "\n",
    "if age2 >= 18:\n",
    "    print(\"It's been 18 years\")\n",
    "else:\n",
    "    print(\"Not yet 18 years old\")"
   ]
  },
  {
   "cell_type": "code",
   "execution_count": 54,
   "metadata": {},
   "outputs": [
    {
     "name": "stdout",
     "output_type": "stream",
     "text": [
      "Enter age: 10\n",
      "Not yet 18 years old\n"
     ]
    }
   ],
   "source": [
    "age2 = int(input(\"Enter age: \"))\n",
    "\n",
    "if age2 > 17:\n",
    "    print(\"It's been 18 years\")\n",
    "else:\n",
    "    print(\"Not yet 18 years old\")"
   ]
  },
  {
   "cell_type": "code",
   "execution_count": 55,
   "metadata": {},
   "outputs": [
    {
     "name": "stdout",
     "output_type": "stream",
     "text": [
      "Enter age: 15\n",
      "Not yet 18 years old\n"
     ]
    }
   ],
   "source": [
    "age2 = int(input(\"Enter age: \"))\n",
    "\n",
    "if age2 == 18:\n",
    "    print(\"It's been 18 years\")\n",
    "else:\n",
    "    print(\"Not yet 18 years old\")"
   ]
  },
  {
   "cell_type": "code",
   "execution_count": null,
   "metadata": {},
   "outputs": [],
   "source": []
  },
  {
   "cell_type": "markdown",
   "metadata": {},
   "source": [
    "৪. লজিক্যাল অপারেটর:\n",
    "দুটি কন্ডিশন তৈরি করুন এবং and, or, not দিয়ে কিভাবে কাজ করে তা দেখান।"
   ]
  },
  {
   "cell_type": "code",
   "execution_count": 57,
   "metadata": {},
   "outputs": [
    {
     "name": "stdout",
     "output_type": "stream",
     "text": [
      "Eligible for the loan\n"
     ]
    }
   ],
   "source": [
    "#and, or\n",
    "age = 15\n",
    "income = 20000\n",
    "if age>= 18 and income >= 15000:\n",
    "    print(\"Eligible for the loan\")\n",
    "elif age>= 18 or income >= 15000:\n",
    "    print(\"Eligible for the loan\")\n",
    "else:\n",
    "    print(\"not eligible\")"
   ]
  },
  {
   "cell_type": "code",
   "execution_count": 58,
   "metadata": {},
   "outputs": [
    {
     "name": "stdout",
     "output_type": "stream",
     "text": [
      "not eligible\n"
     ]
    }
   ],
   "source": [
    "#and, or\n",
    "age = 15\n",
    "income = 10000\n",
    "if age>= 18 and income >= 15000:\n",
    "    print(\"Eligible for the loan\")\n",
    "elif age>= 18 or income >= 15000:\n",
    "    print(\"Eligible for the loan\")\n",
    "else:\n",
    "    print(\"not eligible\")"
   ]
  },
  {
   "cell_type": "code",
   "execution_count": 59,
   "metadata": {},
   "outputs": [
    {
     "name": "stdout",
     "output_type": "stream",
     "text": [
      "My name is b\n"
     ]
    }
   ],
   "source": [
    "#not\n",
    "a = True\n",
    "b = False\n",
    "if not a:\n",
    "    print(\"My name is a\")\n",
    "if not b:\n",
    "    print(\"My name is b\")"
   ]
  },
  {
   "cell_type": "code",
   "execution_count": null,
   "metadata": {},
   "outputs": [],
   "source": []
  },
  {
   "cell_type": "markdown",
   "metadata": {},
   "source": [
    "৫. অ্যাসাইনমেন্ট অপারেটর:\n",
    "একটি ভ্যারিয়েবল নিন এবং +=, -=, *=, /= দিয়ে মান পরিবর্তন করে দেখান।"
   ]
  },
  {
   "cell_type": "markdown",
   "metadata": {},
   "source": [
    "Answer "
   ]
  },
  {
   "cell_type": "code",
   "execution_count": 60,
   "metadata": {},
   "outputs": [
    {
     "name": "stdout",
     "output_type": "stream",
     "text": [
      "10\n",
      "20\n",
      "15\n",
      "30\n",
      "10.0\n"
     ]
    }
   ],
   "source": [
    "x = 10\n",
    "print(x)\n",
    "\n",
    "x += 10\n",
    "print(x)\n",
    "\n",
    "x -= 5\n",
    "print(x)\n",
    "\n",
    "x *= 2\n",
    "print(x)\n",
    "\n",
    "x /= 3\n",
    "print(x)"
   ]
  },
  {
   "cell_type": "markdown",
   "metadata": {},
   "source": [
    "৬. আইডেন্টিটি অপারেটর:\n",
    "দুটি ভিন্ন ভ্যালু যুক্ত ভ্যারিয়েবল তৈরি করে is এবং is not অপারেটর দিয়ে দেখান।"
   ]
  },
  {
   "cell_type": "markdown",
   "metadata": {},
   "source": [
    "Answer "
   ]
  },
  {
   "cell_type": "code",
   "execution_count": 61,
   "metadata": {},
   "outputs": [
    {
     "name": "stdout",
     "output_type": "stream",
     "text": [
      "False\n",
      "True\n"
     ]
    }
   ],
   "source": [
    "x = 10\n",
    "y = 20\n",
    "print(x is y)\n",
    "print(x is not y)"
   ]
  },
  {
   "cell_type": "markdown",
   "metadata": {},
   "source": [
    "More example"
   ]
  },
  {
   "cell_type": "code",
   "execution_count": 62,
   "metadata": {},
   "outputs": [
    {
     "name": "stdout",
     "output_type": "stream",
     "text": [
      "140703986886720\n",
      "140703986887040\n"
     ]
    }
   ],
   "source": [
    "print(id(x))\n",
    "print(id(y))"
   ]
  },
  {
   "cell_type": "code",
   "execution_count": 63,
   "metadata": {},
   "outputs": [
    {
     "name": "stdout",
     "output_type": "stream",
     "text": [
      "True\n",
      "True\n"
     ]
    }
   ],
   "source": [
    "x = 10\n",
    "y = 10\n",
    "print(x is y)\n",
    "z = x\n",
    "print(z is x)"
   ]
  },
  {
   "cell_type": "code",
   "execution_count": 64,
   "metadata": {},
   "outputs": [
    {
     "name": "stdout",
     "output_type": "stream",
     "text": [
      "140703986886720\n",
      "140703986886720\n",
      "140703986886720\n"
     ]
    }
   ],
   "source": [
    "print(id(x))\n",
    "print(id(y))\n",
    "print(id(z))"
   ]
  },
  {
   "cell_type": "markdown",
   "metadata": {},
   "source": [
    "৭. মেম্বারশিপ অপারেটর:\n",
    "একটি লিস্ট তৈরি করুন এবং কোন একটি উপাদান সেই লিস্টে আছে কিনা তা in, not in দিয়ে দেখান।"
   ]
  },
  {
   "cell_type": "markdown",
   "metadata": {},
   "source": [
    "Answer "
   ]
  },
  {
   "cell_type": "code",
   "execution_count": 65,
   "metadata": {},
   "outputs": [
    {
     "data": {
      "text/plain": [
       "True"
      ]
     },
     "execution_count": 65,
     "metadata": {},
     "output_type": "execute_result"
    }
   ],
   "source": [
    "list = [1, 2, 3, 4, 5]\n",
    "2 in list\n"
   ]
  },
  {
   "cell_type": "code",
   "execution_count": 66,
   "metadata": {},
   "outputs": [
    {
     "data": {
      "text/plain": [
       "False"
      ]
     },
     "execution_count": 66,
     "metadata": {},
     "output_type": "execute_result"
    }
   ],
   "source": [
    "2 not in list"
   ]
  },
  {
   "cell_type": "markdown",
   "metadata": {},
   "source": [
    "Another example"
   ]
  },
  {
   "cell_type": "code",
   "execution_count": 67,
   "metadata": {},
   "outputs": [
    {
     "name": "stdout",
     "output_type": "stream",
     "text": [
      "Enter a number: 5\n",
      "in list\n"
     ]
    }
   ],
   "source": [
    "list = [1, 2, 3, 4, 5]\n",
    "num = int(input(\"Enter a number: \"))\n",
    "if num in list:\n",
    "    print(\"in list\")\n",
    "else:\n",
    "    print(\"not in list\")"
   ]
  },
  {
   "cell_type": "code",
   "execution_count": 68,
   "metadata": {},
   "outputs": [
    {
     "name": "stdout",
     "output_type": "stream",
     "text": [
      "Enter a number: 6\n",
      "not in list\n"
     ]
    }
   ],
   "source": [
    "list = [1, 2, 3, 4, 5]\n",
    "num = int(input(\"Enter a number: \"))\n",
    "if num in list:\n",
    "    print(\"in list\")\n",
    "else:\n",
    "    print(\"not in list\")"
   ]
  },
  {
   "cell_type": "code",
   "execution_count": null,
   "metadata": {},
   "outputs": [],
   "source": []
  }
 ],
 "metadata": {
  "kernelspec": {
   "display_name": "Python 3",
   "language": "python",
   "name": "python3"
  },
  "language_info": {
   "codemirror_mode": {
    "name": "ipython",
    "version": 3
   },
   "file_extension": ".py",
   "mimetype": "text/x-python",
   "name": "python",
   "nbconvert_exporter": "python",
   "pygments_lexer": "ipython3",
   "version": "3.8.5"
  }
 },
 "nbformat": 4,
 "nbformat_minor": 4
}
